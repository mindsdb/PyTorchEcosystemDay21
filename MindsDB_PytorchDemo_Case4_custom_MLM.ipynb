{
 "cells": [
  {
   "cell_type": "code",
   "execution_count": 1,
   "id": "accredited-settle",
   "metadata": {},
   "outputs": [
    {
     "name": "stdout",
     "output_type": "stream",
     "text": [
      "S3 Datasource is not available by default. If you wish to use it, please install mindsdb_native[extra_data_sources]\n",
      "Athena Datasource is not available by default. If you wish to use it, please install mindsdb_native[extra_data_sources]\n",
      "Google Cloud Storage Datasource is not available by default. If you wish to use it, please install mindsdb_native[extra_data_sources]\n"
     ]
    },
    {
     "name": "stderr",
     "output_type": "stream",
     "text": [
      "\u001b[33mWARNING:mindsdb-logger-core-logger---:/home/natasha/mdb/lib/python3.8/site-packages/mindsdb_native/libs/helpers/general_helpers.py:123 - There is a new version of MindsDB 2.40.0, please upgrade using:\n",
      "pip3 install mindsdb_native --upgrade\n",
      "\u001b[0m\n"
     ]
    }
   ],
   "source": [
    "import pandas as pd\n",
    "import numpy as np\n",
    "\n",
    "# Machine learning\n",
    "import torch\n",
    "import mindsdb_native as mdb\n",
    "\n",
    "\n",
    "import os\n",
    "import time"
   ]
  },
  {
   "cell_type": "code",
   "execution_count": 2,
   "id": "first-algeria",
   "metadata": {},
   "outputs": [
    {
     "data": {
      "text/plain": [
       "<torch._C.Generator at 0x7f786481acd0>"
      ]
     },
     "execution_count": 2,
     "metadata": {},
     "output_type": "execute_result"
    }
   ],
   "source": [
    "# Setup torch seed for reproducibility\n",
    "torch.manual_seed(1234)"
   ]
  },
  {
   "cell_type": "markdown",
   "id": "enabling-delay",
   "metadata": {},
   "source": [
    "## 1) Load the dataset\n",
    "\n",
    "For simplicity in training (as the stanford dataset is quite large), we'll use a tripadvisor hotel review dataset.\n",
    "The goal of this dataset is to be able to predict the rating (1-5 stars, with 1 being the lowest and 5 being the highest) of the hotel, given an arbitary review."
   ]
  },
  {
   "cell_type": "code",
   "execution_count": 3,
   "id": "female-boundary",
   "metadata": {},
   "outputs": [
    {
     "name": "stdout",
     "output_type": "stream",
     "text": [
      "\u001b[0m\u001b[01;34mstanford_movie_review\u001b[0m/  \u001b[01;34mtripadvisor\u001b[0m/\r\n"
     ]
    }
   ],
   "source": [
    "%ls datasets/"
   ]
  },
  {
   "cell_type": "code",
   "execution_count": 4,
   "id": "thrown-joshua",
   "metadata": {
    "scrolled": true
   },
   "outputs": [
    {
     "data": {
      "text/html": [
       "<div>\n",
       "<style scoped>\n",
       "    .dataframe tbody tr th:only-of-type {\n",
       "        vertical-align: middle;\n",
       "    }\n",
       "\n",
       "    .dataframe tbody tr th {\n",
       "        vertical-align: top;\n",
       "    }\n",
       "\n",
       "    .dataframe thead th {\n",
       "        text-align: right;\n",
       "    }\n",
       "</style>\n",
       "<table border=\"1\" class=\"dataframe\">\n",
       "  <thead>\n",
       "    <tr style=\"text-align: right;\">\n",
       "      <th></th>\n",
       "      <th>Review</th>\n",
       "      <th>Rating</th>\n",
       "    </tr>\n",
       "  </thead>\n",
       "  <tbody>\n",
       "    <tr>\n",
       "      <th>10726</th>\n",
       "      <td>not recommend hotel did reviewers actually sta...</td>\n",
       "      <td>1</td>\n",
       "    </tr>\n",
       "    <tr>\n",
       "      <th>14919</th>\n",
       "      <td>barcelona rocks, stayed hotel jazz girlfriend ...</td>\n",
       "      <td>4</td>\n",
       "    </tr>\n",
       "    <tr>\n",
       "      <th>19098</th>\n",
       "      <td>ok hotel good location stayed night way beijin...</td>\n",
       "      <td>3</td>\n",
       "    </tr>\n",
       "    <tr>\n",
       "      <th>2450</th>\n",
       "      <td>great service nice pool ok beach lovely ground...</td>\n",
       "      <td>4</td>\n",
       "    </tr>\n",
       "    <tr>\n",
       "      <th>960</th>\n",
       "      <td>surprising treat spent weekend july 15/16 2006...</td>\n",
       "      <td>5</td>\n",
       "    </tr>\n",
       "  </tbody>\n",
       "</table>\n",
       "</div>"
      ],
      "text/plain": [
       "                                                  Review  Rating\n",
       "10726  not recommend hotel did reviewers actually sta...       1\n",
       "14919  barcelona rocks, stayed hotel jazz girlfriend ...       4\n",
       "19098  ok hotel good location stayed night way beijin...       3\n",
       "2450   great service nice pool ok beach lovely ground...       4\n",
       "960    surprising treat spent weekend july 15/16 2006...       5"
      ]
     },
     "execution_count": 4,
     "metadata": {},
     "output_type": "execute_result"
    }
   ],
   "source": [
    "data_dir = \"datasets/\"\n",
    "dataset = \"tripadvisor\"\n",
    "filename = os.path.join(data_dir, dataset, \"data.csv\")\n",
    "\n",
    "\n",
    "# Load the data, and scramble the order. The way the data has been \n",
    "data = pd.read_csv(filename).sample(frac=1, random_state=42)\n",
    "\n",
    "data.head()"
   ]
  },
  {
   "cell_type": "markdown",
   "id": "decreased-queen",
   "metadata": {},
   "source": [
    "We can see the polarity between a 5-star and 1-star rating."
   ]
  },
  {
   "cell_type": "code",
   "execution_count": 5,
   "id": "excellent-palestine",
   "metadata": {},
   "outputs": [
    {
     "name": "stdout",
     "output_type": "stream",
     "text": [
      "\u001b[1mFive star (Label=5) Review:\n",
      "\u001b[0m surprising treat spent weekend july 15/16 2006 cartwright hotel based purely recommendations read site, actually expecting like small older european hotel, cartwright amazing, small elegant pleasant staff knowlegable city, room small nicely appointed queen bed linens quality, no airconditioning temperatures sf rarely warrant open windows fresh air night 4th floor, wine hour afternoon gave opportunity meet guests share days adventures breakfast buffet adequate, walk half block powell st cable car usually crowded stop, sf taxi cabs clean reasonably priced usually came built tour guide unlike cities english optional business, cartwright definitely hotel choice return san francisco,  \n",
      "\u001b[1m\n",
      "\n",
      "One star (Label=1) Review: \n",
      "\u001b[0m not recommend hotel did reviewers actually stay hotel did, good thing hotel location really close leidseplein, shared facilities filthy got, did not look toilet floor cleaned month, facilities not cleaned 3 days got, disgusting, staff rude complained left night early refused refund night, not recommend hotel,  \n"
     ]
    }
   ],
   "source": [
    "# Rating examples\n",
    "print(\"\\033[1m\" + \"Five star (Label=5) Review:\\n\" + \"\\033[0m\", data[data[\"Rating\"] == 5][\"Review\"].iloc[0])\n",
    "\n",
    "print(\"\\033[1m\" + \"\\n\\nOne star (Label=1) Review: \\n\" + \"\\033[0m\", data[data[\"Rating\"] == 1][\"Review\"].iloc[0])\n"
   ]
  },
  {
   "cell_type": "markdown",
   "id": "accepted-missile",
   "metadata": {},
   "source": [
    "The ratings distribution is not equivalent; while we will use accuracy, we encourage considering other metrics to predict on such as precision, recall, and accuracy. For simplicity, we merely consider the accuracy."
   ]
  },
  {
   "cell_type": "code",
   "execution_count": 6,
   "id": "nonprofit-migration",
   "metadata": {},
   "outputs": [
    {
     "data": {
      "text/plain": [
       "Text(0.5, 1.0, 'Ratings distribution')"
      ]
     },
     "execution_count": 6,
     "metadata": {},
     "output_type": "execute_result"
    },
    {
     "data": {
      "image/png": "[encoded data removed]",
      "text/plain": [
       "<Figure size 432x288 with 1 Axes>"
      ]
     },
     "metadata": {
      "needs_background": "light"
     },
     "output_type": "display_data"
    }
   ],
   "source": [
    "# An example of the distribution of the model \n",
    "\n",
    "import matplotlib.pyplot as plt\n",
    "\n",
    "# Distribution of the ratings\n",
    "fig, ax = plt.subplots(1,1, figsize=(6,4))\n",
    "\n",
    "hist, bins = np.histogram(data[\"Rating\"], bins=np.arange(0.5, 6.5, 1))\n",
    "\n",
    "ax.bar(bins[:-1], hist.astype(np.float32) / hist.sum(), width=0.5)\n",
    "ax.set_xticks([i+0.5 for i in range(5)])\n",
    "ax.set_xticklabels([str(i+1) for i in range(5)])\n",
    "ax.set_yticks(np.arange(0, 0.55, 0.05))\n",
    "\n",
    "ax.set_xlabel(\"Ratings\")\n",
    "ax.set_ylabel(\"Percent of Dataset\")\n",
    "ax.set_title(\"Ratings distribution\")"
   ]
  },
  {
   "cell_type": "markdown",
   "id": "sublime-haiti",
   "metadata": {},
   "source": [
    "As indicated before, we will split our data into a training/testing branch"
   ]
  },
  {
   "cell_type": "code",
   "execution_count": 7,
   "id": "returning-sydney",
   "metadata": {},
   "outputs": [],
   "source": [
    "# We'll split our training/testing fraction manually\n",
    "\n",
    "ptrain = 0.8\n",
    "Ntrain = int(data.shape[0] * ptrain)\n",
    "Ntest = int(data.shape[0] - Ntrain)\n",
    "\n",
    "train = data.iloc[:Ntrain, :]\n",
    "test = data.iloc[Ntrain:, :]"
   ]
  },
  {
   "cell_type": "markdown",
   "id": "southwest-belief",
   "metadata": {},
   "source": [
    "## 2) Building your own custom encoder\n",
    "\n",
    "**NOTE: In order to run this encoder, you'll need at least 8GB of VRAM and a GPU. \n",
    "\n",
    "For our custom encoder, we will use a **masked language model** (MLM). To explain how an MLM works, imagine a sentence like this:\n",
    "\n",
    "\"This hotel is amazing! I loved my stay here, the bed was comfy and everything was perfect!\"\n",
    "\n",
    "We can convert this into a classification problem using MLM as such:\n",
    "\n",
    "\"Label is [MASK]. This hotel is amazing! I loved my stay here, the bed was comfy and everything was perfect!\"\n",
    "\n",
    "The goal would be to predict whether the hidden token is a positive or negative sentiment. To do this, we will construct \"placeholder\" tokens that represent the hidden label. The model then computes losses to try to predict what hidden token should replace the underlying label. The ground-truth label will be one of the placeholders we setup.\n",
    "\n",
    "**NOTE** While this technique is not necessarily recommended for classification (in fact, the fine-tuned approach, which is the default encoder of long-form text in MindsDB, tends to generally outperform the MLM strategy), we can still build our own custom encoder to leverage novel pytorch models with diverse loss functions and criteria.\n",
    "\n",
    "For convenience, we have provided 2 different scripts, `custom_encoder.py` and `mlm_helpers.py`. The `custom_encoder` script provides an example of how to build an MLM for classification, and `mlm_helpers`, as the name suggests, provides a few functions to help construct labels, new vocabulary, and train a model. \n",
    "\n",
    "We will show how to integrate this as a separate branch in the lightwood repo, and train with your own encoder of choice."
   ]
  },
  {
   "cell_type": "markdown",
   "id": "judicial-allergy",
   "metadata": {},
   "source": [
    "### 2a) Making the custom encoder files \n",
    "\n",
    "The goal of the encoder is to learn a representation. Some encoders can be trained or \"tuned\" to generate a representation related to a particular label to ensure the representations contain useful information. In this simple example, we will tune the encoder with the target data.\n",
    "\n",
    "In this case, a representation is a feature vector that translates the \"data\" space into a format that is usable by a model. The term \"feature vector\", \"representation\", and \"embedding\" will be used interchangeably hence forth.\n",
    "\n",
    "![This is the caption\\label{mylabel}](images/fig1.png)\n",
    "*Figure 1: A representation will take an arbitrary sentence, like this hotel review, and convert it into some vector that a model can use. How the vector is constructed depends on the modeling of the language.*\n",
    "<br>"
   ]
  },
  {
   "cell_type": "markdown",
   "id": "pressing-practitioner",
   "metadata": {},
   "source": [
    "In the following example in ```custom_encoder.py``` we consider the ```MLMEncoder``` class. All base encoders require the following steps:\n",
    "\n",
    "(1) an ```__init__``` call used to instantitate the details of the encoder. The only required component of this call is to ensure that the encoder knows whether you are tuning the embeddings to the target or not.  \n",
    "\n",
    "(2) A ```prepare``` call; This sets up the preliminary ground work of tokenizing and training the encoder to the representation of interest. You can think of this as the ***feature extraction step***\n",
    "\n",
    "(3) An ```encode``` command; this creates a representation/embedding that will be provided downstream to the mixer or predictive model of the piepline .\n",
    "\n",
    "(4) A ```decode``` step; This steps translated the featurized form back into the original space. For text, we implemented an Exception, as decoding will be tricky (as an aside -one possible option is to decode back into the tokenized space for language generation!)\n",
    "\n",
    "(5) A ```to``` step; this step enables you to set the model to a different device (CPU/CUDA)"
   ]
  },
  {
   "cell_type": "markdown",
   "id": "neither-argentina",
   "metadata": {},
   "source": [
    "For specific highlights of the custom encoder, see the script available. As a high level overview:\n",
    "\n",
    "1) The prepare step calls the ```DistilBertForMaskedLanguageModeling``` model and ```DistilBertTokenizerFast``` for the model and tokenizer respectively  \n",
    "\n",
    "2) It prepares a priming sentence with a \"[MASK]\" to be predicted, with the help of ```mlm_helpers``` functions.  \n",
    "\n",
    "3) For each label, it creates a new token \"[Ci]\" where $i$ represents the label number and resizes it to the tokenizer and the model embedding dimensionality. The goal of the model is to predict which token must appear under the Mask.\n",
    "\n",
    "4) It trains the MLM to predict the mask from the underlying label for 1 epoch (default)  \n",
    "\n",
    "5) The encoder creates an embedding by predicting what the underlying mask token is, replacing it in the model input, and then calculating the last hidden-state of the base DistilBert model and presenting the \"[CLS]\" token."
   ]
  },
  {
   "cell_type": "markdown",
   "id": "biblical-unemployment",
   "metadata": {},
   "source": [
    "In order to integrate these changes and run our custom encoder, we need to make some changes to the lightwood repo. Clone your own lightwood repo [here](https://github.com/mindsdb/lightwood). You can use the command ```python setup.py install --user``` to install from the local source.\n",
    "\n",
    "Make a new branch from the stable by the following command:\n",
    "\n",
    "```git checkout -b my_branch_name``` "
   ]
  },
  {
   "cell_type": "markdown",
   "id": "supported-storage",
   "metadata": {},
   "source": [
    "Now to make your own changes: In ```lightwood/encoders/text``` place your ```custom_encoders.py``` script.\n",
    "\n",
    "Subsequently, for your helpers file, place it in ```lightwood/encoders/text/helpers```\n",
    "\n",
    "![This is the caption\\label{mylabel}](images/fig2.png)\n",
    "<br>\n",
    "*Figure 2: An example of where the files should be*\n",
    "<br>\n"
   ]
  },
  {
   "cell_type": "markdown",
   "id": "mysterious-momentum",
   "metadata": {},
   "source": [
    "Now, we need to provide references for lightwood to access these encoders. Change the ```__init__.py``` file in ```lightwood/encoders/text/``` and import your encoder\n",
    "\n",
    "![This is the caption\\label{mylabel}](images/fig33.png)\n",
    "<br>\n",
    "*Figure 3: Import the MLM encoder to the very bottom of this file*\n",
    "<br>\n"
   ]
  },
  {
   "cell_type": "markdown",
   "id": "spanish-pregnancy",
   "metadata": {},
   "source": [
    "Last step, we need ensure that text data will be read as this type of encoder. To do so, we'll make one more change. To do this, we will change the ```data_source.py``` file; this is the file that infers what encoder to use, given a particular column type.\n",
    "\n",
    "In order to do this, go to ```lightwood/api/data_source.py``` and add 2 lines: (a) import your encoder in the beginning of this file and (b) change ```__lookup_encoder_class``` by introducing ```ColumnDataTypes.TEXT: MLMEncoder``` instead of the default, ```PretrainedLang```. This will now enable you to use your custom encoder into the model.\n",
    "\n",
    "![This is the caption\\label{mylabel}](images/fig4.png)\n",
    "<br>\n",
    "*Figure 4: Import the MLM Encoder from lightwood's encoders *\n",
    "<br>\n",
    "\n",
    "\n",
    "![This is the caption\\label{mylabel}](images/fig5.png)\n",
    "<br>\n",
    "*Figure 5: Ensure the text column type for text now defaults to our MLM Encoder* \n",
    "<br>\n",
    "\n",
    "To make this simple, we provided 2 repositories to test between these steps. You can ```git checkout default_textenc``` for our default version, or ```git checkout mlm``` for the masked language model implemented."
   ]
  },
  {
   "cell_type": "markdown",
   "id": "comparative-found",
   "metadata": {},
   "source": [
    "## 3) Testing your new encoder out!\n",
    "\n",
    "Using a git command to switch between repos, we can test how the baseline model performs compared to our new version.\n",
    "\n",
    "Note, the branches we provide are `default_textenc` and `mlm`; you can swap between these two lightwood repos and see how your model fares.\n"
   ]
  },
  {
   "cell_type": "code",
   "execution_count": 8,
   "id": "confidential-illinois",
   "metadata": {},
   "outputs": [
    {
     "name": "stderr",
     "output_type": "stream",
     "text": [
      "\u001b[33mWARNING:mindsdb-logger-core-logger---:/home/natasha/mdb/lib/python3.8/site-packages/mindsdb_native/libs/helpers/general_helpers.py:123 - There is a new version of MindsDB 2.40.0, please upgrade using:\n",
      "pip3 install mindsdb_native --upgrade\n",
      "\u001b[0m\n",
      "\u001b[33mWARNING:mindsdb-logger-52b72b30-a229-11eb-a0cc-c99caea855db---51d83821-9541-4234-bb11-6859bb465cbd:/home/natasha/mdb/lib/python3.8/site-packages/mindsdb_native/libs/controllers/predictor.py:211 - Sample for analysis: True\n",
      "\u001b[0m\n",
      "\u001b[32mINFO:mindsdb-logger-52b72b30-a229-11eb-a0cc-c99caea855db---51d83821-9541-4234-bb11-6859bb465cbd:/home/natasha/mdb/lib/python3.8/site-packages/mindsdb_native/libs/phases/base_module.py:51 - [START] DataExtractor\n",
      "\u001b[0m\n",
      "\u001b[32mINFO:mindsdb-logger-52b72b30-a229-11eb-a0cc-c99caea855db---51d83821-9541-4234-bb11-6859bb465cbd:/home/natasha/mdb/lib/python3.8/site-packages/mindsdb_native/libs/phases/base_module.py:56 - [END] DataExtractor, execution time: 0.035 seconds\n",
      "\u001b[0m\n",
      "\u001b[32mINFO:mindsdb-logger-52b72b30-a229-11eb-a0cc-c99caea855db---51d83821-9541-4234-bb11-6859bb465cbd:/home/natasha/mdb/lib/python3.8/site-packages/mindsdb_native/libs/phases/base_module.py:51 - [START] DataCleaner\n",
      "\u001b[0m\n",
      "\u001b[32mINFO:mindsdb-logger-52b72b30-a229-11eb-a0cc-c99caea855db---51d83821-9541-4234-bb11-6859bb465cbd:/home/natasha/mdb/lib/python3.8/site-packages/mindsdb_native/libs/phases/base_module.py:56 - [END] DataCleaner, execution time: 0.045 seconds\n",
      "\u001b[0m\n",
      "\u001b[32mINFO:mindsdb-logger-52b72b30-a229-11eb-a0cc-c99caea855db---51d83821-9541-4234-bb11-6859bb465cbd:/home/natasha/mdb/lib/python3.8/site-packages/mindsdb_native/libs/phases/base_module.py:51 - [START] TypeDeductor\n",
      "\u001b[0m\n",
      "\u001b[32mINFO:mindsdb-logger-52b72b30-a229-11eb-a0cc-c99caea855db---51d83821-9541-4234-bb11-6859bb465cbd:/home/natasha/mdb/lib/python3.8/site-packages/mindsdb_native/libs/phases/type_deductor/type_deductor.py:301 - Analyzing a sample of 8947 from a total population of 16392, this is equivalent to 54.6% of your data.\n",
      "\u001b[0m\n",
      "[nltk_data] Downloading package stopwords to\n",
      "[nltk_data]     /home/natasha/nltk_data...\n",
      "[nltk_data]   Package stopwords is already up-to-date!\n",
      "\u001b[32mINFO:mindsdb-logger-52b72b30-a229-11eb-a0cc-c99caea855db---51d83821-9541-4234-bb11-6859bb465cbd:/home/natasha/mdb/lib/python3.8/site-packages/mindsdb_native/libs/phases/type_deductor/type_deductor.py:393 - Data distribution for column \"Review\" of type \"Categorical\" and subtype \"Category\"\n",
      "\u001b[0m\n",
      "\u001b[32mINFO:mindsdb-logger-52b72b30-a229-11eb-a0cc-c99caea855db---51d83821-9541-4234-bb11-6859bb465cbd:/home/natasha/mdb/lib/python3.8/site-packages/mindsdb_native/libs/data_types/mindsdb_logger.py:81 - ----------\n",
      "\u001b[0m\n",
      "\u001b[32mINFO:mindsdb-logger-52b72b30-a229-11eb-a0cc-c99caea855db---51d83821-9541-4234-bb11-6859bb465cbd:/home/natasha/mdb/lib/python3.8/site-packages/mindsdb_native/libs/data_types/mindsdb_logger.py:124 -  Category: 8947\n",
      "\u001b[0m\n",
      "\u001b[32mINFO:mindsdb-logger-52b72b30-a229-11eb-a0cc-c99caea855db---51d83821-9541-4234-bb11-6859bb465cbd:/home/natasha/mdb/lib/python3.8/site-packages/mindsdb_native/libs/data_types/mindsdb_logger.py:128 - ----------\n",
      "\u001b[0m\n",
      "\u001b[32mINFO:mindsdb-logger-52b72b30-a229-11eb-a0cc-c99caea855db---51d83821-9541-4234-bb11-6859bb465cbd:/home/natasha/mdb/lib/python3.8/site-packages/mindsdb_native/libs/phases/type_deductor/type_deductor.py:393 - Data distribution for column \"Rating\" of type \"Categorical\" and subtype \"Category\"\n",
      "\u001b[0m\n",
      "\u001b[32mINFO:mindsdb-logger-52b72b30-a229-11eb-a0cc-c99caea855db---51d83821-9541-4234-bb11-6859bb465cbd:/home/natasha/mdb/lib/python3.8/site-packages/mindsdb_native/libs/data_types/mindsdb_logger.py:81 - ----------\n",
      "\u001b[0m\n",
      "\u001b[32mINFO:mindsdb-logger-52b72b30-a229-11eb-a0cc-c99caea855db---51d83821-9541-4234-bb11-6859bb465cbd:/home/natasha/mdb/lib/python3.8/site-packages/mindsdb_native/libs/data_types/mindsdb_logger.py:124 -  Category: 8947\n",
      "\u001b[0m\n",
      "\u001b[32mINFO:mindsdb-logger-52b72b30-a229-11eb-a0cc-c99caea855db---51d83821-9541-4234-bb11-6859bb465cbd:/home/natasha/mdb/lib/python3.8/site-packages/mindsdb_native/libs/data_types/mindsdb_logger.py:128 - ----------\n",
      "\u001b[0m\n",
      "\u001b[32mINFO:mindsdb-logger-52b72b30-a229-11eb-a0cc-c99caea855db---51d83821-9541-4234-bb11-6859bb465cbd:/home/natasha/mdb/lib/python3.8/site-packages/mindsdb_native/libs/phases/base_module.py:56 - [END] TypeDeductor, execution time: 59.571 seconds\n",
      "\u001b[0m\n",
      "\u001b[32mINFO:mindsdb-logger-52b72b30-a229-11eb-a0cc-c99caea855db---51d83821-9541-4234-bb11-6859bb465cbd:/home/natasha/mdb/lib/python3.8/site-packages/mindsdb_native/libs/phases/base_module.py:51 - [START] DataAnalyzer\n",
      "\u001b[0m\n",
      "\u001b[32mINFO:mindsdb-logger-52b72b30-a229-11eb-a0cc-c99caea855db---51d83821-9541-4234-bb11-6859bb465cbd:/home/natasha/mdb/lib/python3.8/site-packages/mindsdb_native/libs/phases/data_analyzer/data_analyzer.py:253 - Analyzing a sample of 8947 from a total population of 16392, this is equivalent to 54.6% of your data.\n",
      "\u001b[0m\n",
      "\u001b[32mINFO:mindsdb-logger-52b72b30-a229-11eb-a0cc-c99caea855db---51d83821-9541-4234-bb11-6859bb465cbd:/home/natasha/mdb/lib/python3.8/site-packages/mindsdb_native/libs/phases/data_analyzer/data_analyzer.py:265 - Analyzing column: Review !\n",
      "\u001b[0m\n",
      "\u001b[33mWARNING:mindsdb-logger-52b72b30-a229-11eb-a0cc-c99caea855db---51d83821-9541-4234-bb11-6859bb465cbd:/home/natasha/mdb/lib/python3.8/site-packages/mindsdb_native/libs/phases/data_analyzer/data_analyzer.py:323 - You may want to check if you see something suspicious on the right-hand-side graph. This doesn't necessarily mean there's an issue with your data, it just indicates a higher than usual probability there might be some issue.\n",
      "\u001b[0m\n",
      "\u001b[32mINFO:mindsdb-logger-52b72b30-a229-11eb-a0cc-c99caea855db---51d83821-9541-4234-bb11-6859bb465cbd:/home/natasha/mdb/lib/python3.8/site-packages/mindsdb_native/libs/phases/data_analyzer/data_analyzer.py:343 - Finished analyzing column: Review !\n",
      "\n",
      "\u001b[0m\n",
      "\u001b[32mINFO:mindsdb-logger-52b72b30-a229-11eb-a0cc-c99caea855db---51d83821-9541-4234-bb11-6859bb465cbd:/home/natasha/mdb/lib/python3.8/site-packages/mindsdb_native/libs/phases/data_analyzer/data_analyzer.py:265 - Analyzing column: Rating !\n",
      "\u001b[0m\n",
      "\u001b[32mINFO:mindsdb-logger-52b72b30-a229-11eb-a0cc-c99caea855db---51d83821-9541-4234-bb11-6859bb465cbd:/home/natasha/mdb/lib/python3.8/site-packages/mindsdb_native/libs/phases/data_analyzer/data_analyzer.py:343 - Finished analyzing column: Rating !\n",
      "\n",
      "\u001b[0m\n",
      "\u001b[32mINFO:mindsdb-logger-52b72b30-a229-11eb-a0cc-c99caea855db---51d83821-9541-4234-bb11-6859bb465cbd:/home/natasha/mdb/lib/python3.8/site-packages/mindsdb_native/libs/phases/base_module.py:56 - [END] DataAnalyzer, execution time: 0.315 seconds\n",
      "\u001b[0m\n",
      "\u001b[32mINFO:mindsdb-logger-52b72b30-a229-11eb-a0cc-c99caea855db---51d83821-9541-4234-bb11-6859bb465cbd:/home/natasha/mdb/lib/python3.8/site-packages/mindsdb_native/libs/phases/base_module.py:51 - [START] DataCleaner\n",
      "\u001b[0m\n",
      "\u001b[32mINFO:mindsdb-logger-52b72b30-a229-11eb-a0cc-c99caea855db---51d83821-9541-4234-bb11-6859bb465cbd:/home/natasha/mdb/lib/python3.8/site-packages/mindsdb_native/libs/phases/base_module.py:56 - [END] DataCleaner, execution time: 0.041 seconds\n",
      "\u001b[0m\n",
      "\u001b[32mINFO:mindsdb-logger-52b72b30-a229-11eb-a0cc-c99caea855db---51d83821-9541-4234-bb11-6859bb465cbd:/home/natasha/mdb/lib/python3.8/site-packages/mindsdb_native/libs/phases/base_module.py:51 - [START] DataSplitter\n",
      "\u001b[0m\n",
      "\u001b[32mINFO:mindsdb-logger-52b72b30-a229-11eb-a0cc-c99caea855db---51d83821-9541-4234-bb11-6859bb465cbd:/home/natasha/mdb/lib/python3.8/site-packages/mindsdb_native/libs/phases/data_splitter/data_splitter.py:109 - We have split the input data into:\n",
      "\u001b[0m\n",
      "\u001b[32mINFO:mindsdb-logger-52b72b30-a229-11eb-a0cc-c99caea855db---51d83821-9541-4234-bb11-6859bb465cbd:/home/natasha/mdb/lib/python3.8/site-packages/mindsdb_native/libs/phases/base_module.py:56 - [END] DataSplitter, execution time: 0.842 seconds\n",
      "\u001b[0m\n",
      "\u001b[32mINFO:mindsdb-logger-52b72b30-a229-11eb-a0cc-c99caea855db---51d83821-9541-4234-bb11-6859bb465cbd:/home/natasha/mdb/lib/python3.8/site-packages/mindsdb_native/libs/phases/base_module.py:51 - [START] DataTransformer\n",
      "\u001b[0m\n",
      "\u001b[32mINFO:mindsdb-logger-52b72b30-a229-11eb-a0cc-c99caea855db---51d83821-9541-4234-bb11-6859bb465cbd:/home/natasha/mdb/lib/python3.8/site-packages/mindsdb_native/libs/phases/base_module.py:56 - [END] DataTransformer, execution time: 0.030 seconds\n",
      "\u001b[0m\n",
      "\u001b[32mINFO:mindsdb-logger-52b72b30-a229-11eb-a0cc-c99caea855db---51d83821-9541-4234-bb11-6859bb465cbd:/home/natasha/mdb/lib/python3.8/site-packages/mindsdb_native/libs/phases/base_module.py:51 - [START] ModelInterface\n",
      "\u001b[0m\n"
     ]
    },
    {
     "name": "stderr",
     "output_type": "stream",
     "text": [
      "/home/natasha/mdb/lib/python3.8/site-packages/lightgbm/engine.py:151: UserWarning: Found `num_iterations` in params. Will use it instead of argument\n",
      "  warnings.warn(\"Found `{}` in params. Will use it instead of argument\".format(alias))\n",
      "/home/natasha/mdb/lib/python3.8/site-packages/lightgbm/engine.py:151: UserWarning: Found `num_iterations` in params. Will use it instead of argument\n",
      "  warnings.warn(\"Found `{}` in params. Will use it instead of argument\".format(alias))\n",
      "INFO:root:A single GBM itteration takes 0.1 seconds\n",
      "INFO:root:Training GBM (<module 'optuna.integration.lightgbm' from '/home/natasha/mdb/lib/python3.8/site-packages/optuna/integration/lightgbm.py'>) with 100 iterations\n",
      "feature_fraction, val_score: 0.960688: 100%|##########| 7/7 [03:46<00:00, 32.33s/it]\n",
      "num_leaves, val_score: 0.947608: 100%|##########| 20/20 [17:07<00:00, 51.35s/it]\n",
      "bagging, val_score: 0.947569: 100%|##########| 10/10 [04:51<00:00, 29.19s/it]\n",
      "feature_fraction_stage2, val_score: 0.947569: 100%|##########| 6/6 [02:15<00:00, 22.59s/it]\n",
      "regularization_factors, val_score: 0.945650: 100%|##########| 20/20 [07:30<00:00, 22.52s/it]\n",
      "min_data_in_leaf, val_score: 0.943244: 100%|##########| 5/5 [01:47<00:00, 21.40s/it]\n",
      "\u001b[32mINFO:mindsdb-logger-52b72b30-a229-11eb-a0cc-c99caea855db---51d83821-9541-4234-bb11-6859bb465cbd:/home/natasha/mdb/lib/python3.8/site-packages/mindsdb_native/libs/phases/model_interface/lightwood_backend.py:454 - [LightGBMMixer] Training accuracy of: {'Rating': {'function': 'accuracy_score', 'value': 0.49521404387240714}}\n",
      "\u001b[0m\n",
      "INFO:lightwood.3239:Computing device used: cuda\n",
      "INFO:lightwood.3239:Computing device used: cuda\n",
      "INFO:lightwood.3239:Building network of shape: [768, 65, 6]\n",
      "INFO:lightwood.3239:Subtest test error: 1.6075451374053955 on subset 1, overall test error: 1.6007304059134588\n",
      "INFO:lightwood.3239:Model predictions and decoding completed\n",
      "\u001b[37mDEBUG:mindsdb-logger-52b72b30-a229-11eb-a0cc-c99caea855db---51d83821-9541-4234-bb11-6859bb465cbd:/home/natasha/mdb/lib/python3.8/site-packages/mindsdb_native/libs/phases/model_interface/lightwood_backend.py:328 - We've reached training epoch nr 0 with an accuracy of 34.38% on the testing dataset\n",
      "\u001b[0m\n",
      "INFO:lightwood.3239:Subtest test error: 1.0571844577789307 on subset 1, overall test error: 1.0752058956358168\n",
      "INFO:lightwood.3239:Model predictions and decoding completed\n",
      "\u001b[37mDEBUG:mindsdb-logger-52b72b30-a229-11eb-a0cc-c99caea855db---51d83821-9541-4234-bb11-6859bb465cbd:/home/natasha/mdb/lib/python3.8/site-packages/mindsdb_native/libs/phases/model_interface/lightwood_backend.py:328 - We've reached training epoch nr 38 with an accuracy of 52.53% on the testing dataset\n",
      "\u001b[0m\n",
      "INFO:lightwood.3239:Subtest test error: 1.0040361086527507 on subset 1, overall test error: 1.0338060723410711\n",
      "INFO:lightwood.3239:Model predictions and decoding completed\n",
      "\u001b[37mDEBUG:mindsdb-logger-52b72b30-a229-11eb-a0cc-c99caea855db---51d83821-9541-4234-bb11-6859bb465cbd:/home/natasha/mdb/lib/python3.8/site-packages/mindsdb_native/libs/phases/model_interface/lightwood_backend.py:328 - We've reached training epoch nr 76 with an accuracy of 52.79% on the testing dataset\n",
      "\u001b[0m\n",
      "INFO:lightwood.3239:Subtest test error: 0.9978542923927307 on subset 1, overall test error: 1.033229841126336\n",
      "INFO:lightwood.3239:Model predictions and decoding completed\n",
      "\u001b[37mDEBUG:mindsdb-logger-52b72b30-a229-11eb-a0cc-c99caea855db---51d83821-9541-4234-bb11-6859bb465cbd:/home/natasha/mdb/lib/python3.8/site-packages/mindsdb_native/libs/phases/model_interface/lightwood_backend.py:328 - We've reached training epoch nr 114 with an accuracy of 53.16% on the testing dataset\n",
      "\u001b[0m\n",
      "INFO:lightwood.3239:Subtest test error: 0.9909699161847433 on subset 1, overall test error: 1.0401667025354173\n",
      "INFO:lightwood.3239:Model predictions and decoding completed\n",
      "\u001b[37mDEBUG:mindsdb-logger-52b72b30-a229-11eb-a0cc-c99caea855db---51d83821-9541-4234-bb11-6859bb465cbd:/home/natasha/mdb/lib/python3.8/site-packages/mindsdb_native/libs/phases/model_interface/lightwood_backend.py:328 - We've reached training epoch nr 152 with an accuracy of 53.88% on the testing dataset\n",
      "\u001b[0m\n",
      "INFO:lightwood.3239:Subtest test error: 1.02169930934906 on subset 1, overall test error: 1.066288987795512\n",
      "INFO:lightwood.3239:Model predictions and decoding completed\n",
      "\u001b[37mDEBUG:mindsdb-logger-52b72b30-a229-11eb-a0cc-c99caea855db---51d83821-9541-4234-bb11-6859bb465cbd:/home/natasha/mdb/lib/python3.8/site-packages/mindsdb_native/libs/phases/model_interface/lightwood_backend.py:328 - We've reached training epoch nr 190 with an accuracy of 53.66% on the testing dataset\n",
      "\u001b[0m\n",
      "INFO:lightwood.3239:Subtest test error: 1.0502528349558513 on subset 1, overall test error: 1.1009883019659255\n",
      "INFO:lightwood.3239:Model predictions and decoding completed\n",
      "\u001b[37mDEBUG:mindsdb-logger-52b72b30-a229-11eb-a0cc-c99caea855db---51d83821-9541-4234-bb11-6859bb465cbd:/home/natasha/mdb/lib/python3.8/site-packages/mindsdb_native/libs/phases/model_interface/lightwood_backend.py:328 - We've reached training epoch nr 228 with an accuracy of 53.24% on the testing dataset\n",
      "\u001b[0m\n",
      "INFO:lightwood.3239:Subtest test error: 1.0604734023412068 on subset 1, overall test error: 1.1344810922940571\n",
      "INFO:lightwood.3239:Model predictions and decoding completed\n",
      "\u001b[37mDEBUG:mindsdb-logger-52b72b30-a229-11eb-a0cc-c99caea855db---51d83821-9541-4234-bb11-6859bb465cbd:/home/natasha/mdb/lib/python3.8/site-packages/mindsdb_native/libs/phases/model_interface/lightwood_backend.py:328 - We've reached training epoch nr 266 with an accuracy of 52.36% on the testing dataset\n",
      "\u001b[0m\n",
      "INFO:lightwood.3239:Finished fitting on 1 of 3 subset\n",
      "INFO:lightwood.3239:Subtest test error: 0.9969945748647054 on subset 2, overall test error: 1.0284285479121738\n",
      "INFO:lightwood.3239:Model predictions and decoding completed\n",
      "\u001b[37mDEBUG:mindsdb-logger-52b72b30-a229-11eb-a0cc-c99caea855db---51d83821-9541-4234-bb11-6859bb465cbd:/home/natasha/mdb/lib/python3.8/site-packages/mindsdb_native/libs/phases/model_interface/lightwood_backend.py:328 - We've reached training epoch nr 0 with an accuracy of 54.3% on the testing dataset\n",
      "\u001b[0m\n",
      "INFO:lightwood.3239:Subtest test error: 0.9930976629257202 on subset 2, overall test error: 1.0127944813834295\n",
      "INFO:lightwood.3239:Model predictions and decoding completed\n",
      "\u001b[37mDEBUG:mindsdb-logger-52b72b30-a229-11eb-a0cc-c99caea855db---51d83821-9541-4234-bb11-6859bb465cbd:/home/natasha/mdb/lib/python3.8/site-packages/mindsdb_native/libs/phases/model_interface/lightwood_backend.py:328 - We've reached training epoch nr 38 with an accuracy of 55.09% on the testing dataset\n",
      "\u001b[0m\n",
      "INFO:lightwood.3239:Subtest test error: 1.0304004549980164 on subset 2, overall test error: 1.0419155293040805\n",
      "INFO:lightwood.3239:Model predictions and decoding completed\n",
      "\u001b[37mDEBUG:mindsdb-logger-52b72b30-a229-11eb-a0cc-c99caea855db---51d83821-9541-4234-bb11-6859bb465cbd:/home/natasha/mdb/lib/python3.8/site-packages/mindsdb_native/libs/phases/model_interface/lightwood_backend.py:328 - We've reached training epoch nr 76 with an accuracy of 54.31% on the testing dataset\n",
      "\u001b[0m\n",
      "INFO:lightwood.3239:Subtest test error: 1.0475206573804219 on subset 2, overall test error: 1.0503032406171162\n",
      "INFO:lightwood.3239:Model predictions and decoding completed\n",
      "\u001b[37mDEBUG:mindsdb-logger-52b72b30-a229-11eb-a0cc-c99caea855db---51d83821-9541-4234-bb11-6859bb465cbd:/home/natasha/mdb/lib/python3.8/site-packages/mindsdb_native/libs/phases/model_interface/lightwood_backend.py:328 - We've reached training epoch nr 114 with an accuracy of 53.47% on the testing dataset\n",
      "\u001b[0m\n",
      "INFO:lightwood.3239:Subtest test error: 1.0830657482147217 on subset 2, overall test error: 1.0793113907178242\n",
      "INFO:lightwood.3239:Model predictions and decoding completed\n",
      "\u001b[37mDEBUG:mindsdb-logger-52b72b30-a229-11eb-a0cc-c99caea855db---51d83821-9541-4234-bb11-6859bb465cbd:/home/natasha/mdb/lib/python3.8/site-packages/mindsdb_native/libs/phases/model_interface/lightwood_backend.py:328 - We've reached training epoch nr 152 with an accuracy of 52.35% on the testing dataset\n",
      "\u001b[0m\n",
      "INFO:lightwood.3239:Subtest test error: 1.1287591457366943 on subset 2, overall test error: 1.1193056371476915\n",
      "INFO:lightwood.3239:Model predictions and decoding completed\n",
      "\u001b[37mDEBUG:mindsdb-logger-52b72b30-a229-11eb-a0cc-c99caea855db---51d83821-9541-4234-bb11-6859bb465cbd:/home/natasha/mdb/lib/python3.8/site-packages/mindsdb_native/libs/phases/model_interface/lightwood_backend.py:328 - We've reached training epoch nr 190 with an accuracy of 52.37% on the testing dataset\n",
      "\u001b[0m\n"
     ]
    },
    {
     "name": "stderr",
     "output_type": "stream",
     "text": [
      "INFO:lightwood.3239:Finished fitting on 2 of 3 subset\n",
      "INFO:lightwood.3239:Subtest test error: 1.0920781095822651 on subset 3, overall test error: 1.013155738512675\n",
      "INFO:lightwood.3239:Model predictions and decoding completed\n",
      "\u001b[37mDEBUG:mindsdb-logger-52b72b30-a229-11eb-a0cc-c99caea855db---51d83821-9541-4234-bb11-6859bb465cbd:/home/natasha/mdb/lib/python3.8/site-packages/mindsdb_native/libs/phases/model_interface/lightwood_backend.py:328 - We've reached training epoch nr 0 with an accuracy of 55.41% on the testing dataset\n",
      "\u001b[0m\n",
      "INFO:lightwood.3239:Subtest test error: 1.0927695830663045 on subset 3, overall test error: 1.0170532663663228\n",
      "INFO:lightwood.3239:Model predictions and decoding completed\n",
      "\u001b[37mDEBUG:mindsdb-logger-52b72b30-a229-11eb-a0cc-c99caea855db---51d83821-9541-4234-bb11-6859bb465cbd:/home/natasha/mdb/lib/python3.8/site-packages/mindsdb_native/libs/phases/model_interface/lightwood_backend.py:328 - We've reached training epoch nr 38 with an accuracy of 54.71% on the testing dataset\n",
      "\u001b[0m\n",
      "INFO:lightwood.3239:Lightwood training, iteration 62, training error 0.9379810338670557\n",
      "INFO:lightwood.3239:Subtest test error: 1.097238798936208 on subset 3, overall test error: 1.0182354781362746\n",
      "INFO:lightwood.3239:Model predictions and decoding completed\n",
      "\u001b[37mDEBUG:mindsdb-logger-52b72b30-a229-11eb-a0cc-c99caea855db---51d83821-9541-4234-bb11-6859bb465cbd:/home/natasha/mdb/lib/python3.8/site-packages/mindsdb_native/libs/phases/model_interface/lightwood_backend.py:328 - We've reached training epoch nr 76 with an accuracy of 56.12% on the testing dataset\n",
      "\u001b[0m\n",
      "INFO:lightwood.3239:Subtest test error: 1.1310274998346965 on subset 3, overall test error: 1.037471055984497\n",
      "INFO:lightwood.3239:Model predictions and decoding completed\n",
      "\u001b[37mDEBUG:mindsdb-logger-52b72b30-a229-11eb-a0cc-c99caea855db---51d83821-9541-4234-bb11-6859bb465cbd:/home/natasha/mdb/lib/python3.8/site-packages/mindsdb_native/libs/phases/model_interface/lightwood_backend.py:328 - We've reached training epoch nr 114 with an accuracy of 53.05% on the testing dataset\n",
      "\u001b[0m\n",
      "INFO:lightwood.3239:Subtest test error: 1.1530222495396931 on subset 3, overall test error: 1.0604393018616571\n",
      "INFO:lightwood.3239:Model predictions and decoding completed\n",
      "\u001b[37mDEBUG:mindsdb-logger-52b72b30-a229-11eb-a0cc-c99caea855db---51d83821-9541-4234-bb11-6859bb465cbd:/home/natasha/mdb/lib/python3.8/site-packages/mindsdb_native/libs/phases/model_interface/lightwood_backend.py:328 - We've reached training epoch nr 152 with an accuracy of 54.55% on the testing dataset\n",
      "\u001b[0m\n",
      "INFO:lightwood.3239:Subtest test error: 1.191910187403361 on subset 3, overall test error: 1.0825219816631741\n",
      "INFO:lightwood.3239:Model predictions and decoding completed\n",
      "\u001b[37mDEBUG:mindsdb-logger-52b72b30-a229-11eb-a0cc-c99caea855db---51d83821-9541-4234-bb11-6859bb465cbd:/home/natasha/mdb/lib/python3.8/site-packages/mindsdb_native/libs/phases/model_interface/lightwood_backend.py:328 - We've reached training epoch nr 190 with an accuracy of 54.0% on the testing dataset\n",
      "\u001b[0m\n",
      "INFO:lightwood.3239:Finished fitting on 3 of 3 subset\n",
      "INFO:lightwood.3239:Finished training model !\n",
      "INFO:lightwood.3239:Model predictions and decoding completed\n",
      "\u001b[32mINFO:mindsdb-logger-52b72b30-a229-11eb-a0cc-c99caea855db---51d83821-9541-4234-bb11-6859bb465cbd:/home/natasha/mdb/lib/python3.8/site-packages/mindsdb_native/libs/phases/model_interface/lightwood_backend.py:454 - [NnMixer] Training accuracy of: {'Rating': {'function': 'accuracy_score', 'value': 0.5541134074915297}}\n",
      "\u001b[0m\n",
      "INFO:lightwood.3239:Computing device used: cuda\n",
      "INFO:lightwood.3239:Model predictions and decoding completed\n",
      "\u001b[32mINFO:mindsdb-logger-52b72b30-a229-11eb-a0cc-c99caea855db---51d83821-9541-4234-bb11-6859bb465cbd:/home/natasha/mdb/lib/python3.8/site-packages/mindsdb_native/libs/phases/base_module.py:56 - [END] ModelInterface, execution time: 2514.779 seconds\n",
      "\u001b[0m\n",
      "\u001b[32mINFO:mindsdb-logger-52b72b30-a229-11eb-a0cc-c99caea855db---51d83821-9541-4234-bb11-6859bb465cbd:/home/natasha/mdb/lib/python3.8/site-packages/mindsdb_native/libs/phases/base_module.py:51 - [START] ModelAnalyzer\n",
      "\u001b[0m\n",
      "INFO:lightwood.3239:Computing device used: cuda\n",
      "INFO:lightwood.3239:Model predictions and decoding completed\n",
      "INFO:lightwood.3239:Computing device used: cuda\n",
      "INFO:lightwood.3239:Model predictions and decoding completed\n",
      "INFO:lightwood.3239:Computing device used: cuda\n",
      "INFO:lightwood.3239:Model predictions and decoding completed\n",
      "INFO:lightwood.3239:Computing device used: cuda\n",
      "INFO:lightwood.3239:Model predictions and decoding completed\n",
      "INFO:lightwood.3239:Computing device used: cuda\n",
      "INFO:lightwood.3239:Model predictions and decoding completed\n",
      "\u001b[32mINFO:mindsdb-logger-52b72b30-a229-11eb-a0cc-c99caea855db---51d83821-9541-4234-bb11-6859bb465cbd:/home/natasha/mdb/lib/python3.8/site-packages/mindsdb_native/libs/phases/base_module.py:56 - [END] ModelAnalyzer, execution time: 245.765 seconds\n",
      "\u001b[0m\n"
     ]
    }
   ],
   "source": [
    "# Create a predictor instance\n",
    "model = mdb.Predictor(name=\"text_reviews\")\n",
    "\n",
    "# Train your model!\n",
    "model.learn(from_data=train, to_predict=\"Rating\", use_gpu=True)"
   ]
  },
  {
   "cell_type": "code",
   "execution_count": 9,
   "id": "opened-throw",
   "metadata": {},
   "outputs": [
    {
     "name": "stderr",
     "output_type": "stream",
     "text": [
      "\u001b[32mINFO:mindsdb-logger-core-logger---:/home/natasha/mdb/lib/python3.8/site-packages/mindsdb_native/libs/phases/base_module.py:51 - [START] DataExtractor\n",
      "\u001b[0m\n",
      "\u001b[32mINFO:mindsdb-logger-core-logger---:/home/natasha/mdb/lib/python3.8/site-packages/mindsdb_native/libs/phases/base_module.py:56 - [END] DataExtractor, execution time: 0.016 seconds\n",
      "\u001b[0m\n",
      "\u001b[32mINFO:mindsdb-logger-core-logger---:/home/natasha/mdb/lib/python3.8/site-packages/mindsdb_native/libs/phases/base_module.py:51 - [START] DataTransformer\n",
      "\u001b[0m\n",
      "\u001b[32mINFO:mindsdb-logger-core-logger---:/home/natasha/mdb/lib/python3.8/site-packages/mindsdb_native/libs/phases/base_module.py:56 - [END] DataTransformer, execution time: 0.010 seconds\n",
      "\u001b[0m\n",
      "\u001b[32mINFO:mindsdb-logger-core-logger---:/home/natasha/mdb/lib/python3.8/site-packages/mindsdb_native/libs/phases/base_module.py:51 - [START] ModelInterface\n",
      "\u001b[0m\n",
      "INFO:lightwood.3239:Computing device used: cuda\n",
      "INFO:lightwood.3239:Model predictions and decoding completed\n",
      "\u001b[32mINFO:mindsdb-logger-core-logger---:/home/natasha/mdb/lib/python3.8/site-packages/mindsdb_native/libs/phases/base_module.py:56 - [END] ModelInterface, execution time: 53.620 seconds\n",
      "\u001b[0m\n"
     ]
    }
   ],
   "source": [
    "result = model.predict(test)"
   ]
  },
  {
   "cell_type": "code",
   "execution_count": 10,
   "id": "endangered-combat",
   "metadata": {},
   "outputs": [
    {
     "name": "stdout",
     "output_type": "stream",
     "text": [
      "Accuracy is = 0.565747743352037\n"
     ]
    }
   ],
   "source": [
    "ypred = result._data[\"Rating\"]\n",
    "ytrue = test[\"Rating\"].astype(str).tolist()\n",
    "\n",
    "acc = [ypred[j] == ytrue[j] for j in range(len(ypred))]\n",
    "\n",
    "print(\"Accuracy is =\", sum(acc)/len(acc))"
   ]
  },
  {
   "cell_type": "raw",
   "id": "built-silly",
   "metadata": {},
   "source": [
    "For our new MLM encoder, we anticipate an accuracy of around 0.566; for our default encoder provided, you can anticipate it to be around 0.644.\n",
    "\n",
    "We are currently working on a feature to enable users to quickly modify encoders by simply flagging their custom encoders through a configuration file! Stay tuned."
   ]
  }
 ],
 "metadata": {
  "kernelspec": {
   "display_name": "mdb",
   "language": "python",
   "name": "mdb"
  },
  "language_info": {
   "codemirror_mode": {
    "name": "ipython",
    "version": 3
   },
   "file_extension": ".py",
   "mimetype": "text/x-python",
   "name": "python",
   "nbconvert_exporter": "python",
   "pygments_lexer": "ipython3",
   "version": "3.8.5"
  }
 },
 "nbformat": 4,
 "nbformat_minor": 5
}
