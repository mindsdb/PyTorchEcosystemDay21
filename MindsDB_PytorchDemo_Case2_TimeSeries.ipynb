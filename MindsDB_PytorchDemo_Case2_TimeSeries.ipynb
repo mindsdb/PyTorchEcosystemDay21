{
 "cells": [
  {
   "cell_type": "markdown",
   "metadata": {},
   "source": [
    "# India power consumption"
   ]
  },
  {
   "cell_type": "markdown",
   "metadata": {},
   "source": [
    "### Data split\n",
    "\n",
    "We consider the `_long_data.csv` file from the dataset (accessed [here](https://kaggle.com/twinkle0705/state-wise-power-consumption-in-india), already sorted by timestamp) to split rows into a training dataset and a held out testing dataset."
   ]
  },
  {
   "cell_type": "code",
   "execution_count": null,
   "metadata": {},
   "outputs": [],
   "source": [
    "import os\n",
    "import pandas as pd"
   ]
  },
  {
   "cell_type": "code",
   "execution_count": null,
   "metadata": {},
   "outputs": [],
   "source": [
    "path = './datasets/india_power_consumption'\n",
    "data = pd.read_csv(os.path.join(path, 'data.csv')).astype(str)\n",
    "\n",
    "train_fraction=0.8\n",
    "train_data = data[:int(data.shape[0]*train_fraction)]\n",
    "test_data = data[int(data.shape[0]*train_fraction):]"
   ]
  },
  {
   "cell_type": "markdown",
   "metadata": {},
   "source": [
    "### Training"
   ]
  },
  {
   "cell_type": "code",
   "execution_count": null,
   "metadata": {},
   "outputs": [],
   "source": [
    "import mindsdb_native"
   ]
  },
  {
   "cell_type": "code",
   "execution_count": null,
   "metadata": {
    "scrolled": true
   },
   "outputs": [],
   "source": [
    "mdb = mindsdb_native.Predictor(name='pted_usecase2')\n",
    "params = { 'order': 'Dates', 'target': 'Usage', 'group': 'States', 'window': 5 }\n",
    "\n",
    "mdb.learn(from_data=train_data, \n",
    "          to_predict=params['target'],\n",
    "          timeseries_settings={\n",
    "              'order_by':  [params['order']]\n",
    "              ,'window':    params['window']\n",
    "              ,'group_by': [params['group']]\n",
    "          })"
   ]
  },
  {
   "cell_type": "markdown",
   "metadata": {},
   "source": [
    "## Predict + visualize"
   ]
  },
  {
   "cell_type": "code",
   "execution_count": null,
   "metadata": {
    "code_folding": [
     2
    ]
   },
   "outputs": [],
   "source": [
    "# pio.renderers.default = \"browser\" # turn this on to see plots in separate web browser tabs\n",
    "\n",
    "def plotter(time, real, predicted, confa, confb, labels, anomalies=None):\n",
    "    \"\"\" We use Plotly to generate forecasting visualizations \"\"\"\n",
    "    from ipywidgets import interact, interactive, fixed, interact_manual\n",
    "    import plotly.graph_objects as go\n",
    "    import plotly.io as pio\n",
    "    \n",
    "    fig = go.Figure()\n",
    "    \n",
    "    if confa is not None and confb is not None:\n",
    "        fig.add_trace(go.Scatter(x=time,y=confa,\n",
    "                                 name = 'Confidence',\n",
    "                                 fill=None,\n",
    "                                 mode='lines',\n",
    "                                 line = dict(color='#919EA5', width=0 )))\n",
    "\n",
    "        fig.add_trace(go.Scatter(x=time,y=confb,\n",
    "                                 name='Confidence',\n",
    "                                 fill='tonexty',\n",
    "                                 mode='lines',\n",
    "                                 line = dict(color='#919EA5', width=0 )))\n",
    "\n",
    "    fig.add_trace(go.Scatter(x=time, y=real,\n",
    "                             name='Real',\n",
    "                             line=dict(color='rgba(0,176,109,1)', width=3)))\n",
    "\n",
    "    fig.add_trace(go.Scatter(x=time, y=predicted,\n",
    "                             name='Predicted',\n",
    "                             showlegend=True,\n",
    "                             line=dict(color='rgba(103,81,173,1)', width=3)),)\n",
    "\n",
    "    if anomalies:\n",
    "        for (t_idx, t), anomaly in zip(enumerate(time), anomalies):\n",
    "            if anomaly:\n",
    "                t1 = time[t_idx-1] if t_idx > 0 else t\n",
    "                t3 = time[t_idx+1] if t_idx < len(time)-1 else t\n",
    "                fig.add_vrect(x0=t1, x1=t3, line_width=0, opacity=0.25, fillcolor=\"orange\")\n",
    "\n",
    "    fig.update_layout(\n",
    "        xaxis=dict(\n",
    "            showline=True,\n",
    "            showgrid=True,\n",
    "            showticklabels=True,\n",
    "            gridwidth=1,\n",
    "            gridcolor='rgb(232,232,232)',\n",
    "            linecolor='rgb(181, 181, 181)',\n",
    "            linewidth=2,\n",
    "            ticks='outside',\n",
    "            tickfont=dict(\n",
    "                family='Source Sans Pro',\n",
    "                size=14,\n",
    "                color='rgb(44, 38, 63)',\n",
    "            ),\n",
    "        ),\n",
    "        yaxis=dict(\n",
    "            showgrid=True,\n",
    "            zeroline=True,\n",
    "            showline=True,\n",
    "            linecolor='rgb(181, 181, 181)',\n",
    "            linewidth=2,\n",
    "\n",
    "            showticklabels=True,\n",
    "            gridwidth=1,\n",
    "            gridcolor='rgb(232,232,232)',\n",
    "            tickfont=dict(\n",
    "                family='Source Sans Pro',\n",
    "                size=14,\n",
    "                color='rgb(44, 38, 63)',\n",
    "            ),\n",
    "\n",
    "        ),\n",
    "        autosize=True,\n",
    "        showlegend=True,\n",
    "        plot_bgcolor='white',\n",
    "        hovermode='x',\n",
    "        \n",
    "        font_family=\"Courier New\",\n",
    "        font_color='rgba(0,176,109,1)',\n",
    "        title_font_family=\"Times New Roman\",\n",
    "        title_font_color='rgba(0,176,109,1)',\n",
    "        legend_title_font_color='rgba(0,176,109,1)',\n",
    "        \n",
    "        title=labels['title'],\n",
    "        xaxis_title=labels['xtitle'],\n",
    "        yaxis_title=labels['ytitle'],\n",
    "        legend_title=labels['legend_title'],\n",
    "    )\n",
    "\n",
    "    return fig"
   ]
  },
  {
   "cell_type": "code",
   "execution_count": null,
   "metadata": {},
   "outputs": [],
   "source": [
    "def plot_call(r, target, order, titles, show_anomaly=False, idx=None, n=1, window=0):\n",
    "    \"\"\"\n",
    "    Calls the plotter using predictor results.\n",
    "    idx: for t+n predictors, specifies at which point to forecast each test series\n",
    "    n: number of predictions\n",
    "    \"\"\"\n",
    "    if isinstance(r._data[f'{target}'], list):\n",
    "        forecasting_window = len(r._data[f'{target}'])\n",
    "    else:\n",
    "        forecasting_window = len(r._data[f'{target}'][0])\n",
    "        \n",
    "    for key in [f'{params[\"target\"]}', f'__observed_{params[\"target\"]}']:      \n",
    "        if isinstance(r._data[key][0], list) and (forecasting_window == 1 or idx is None):\n",
    "            r._data[key] = [p[0] for p in r._data[key]]\n",
    "\n",
    "    results = pd.DataFrame.from_dict(r._data).sort_values(order)\n",
    "    time_target = results[order].values\n",
    "    results = results[window:]\n",
    "    \n",
    "    if idx is None:\n",
    "        real_target = [float(r) for r in results[f'__observed_{target}']]\n",
    "        pred_target = [p for p in r._data[f'{target}']][window:]\n",
    "        conf_lower = [c[0] for c in results[f'{target}_confidence_range']]\n",
    "        conf_upper = [c[1] for c in results[f'{target}_confidence_range']]\n",
    "    else:\n",
    "        pred_target = [None for _ in range(idx)] + [p for p in r._data[f'{target}'][idx]]\n",
    "        real_target = [float(r) for r in results[f'__observed_{target}']][:idx+n]\n",
    "        conf_lower = None\n",
    "        conf_upper = None\n",
    "        \n",
    "    anomalies = [c for c in results[f'{target}_anomaly']] if show_anomaly else None\n",
    "    fig = plotter(time_target, real_target, pred_target, conf_lower, conf_upper, labels=titles, anomalies=anomalies)\n",
    "    fig.show()"
   ]
  },
  {
   "cell_type": "code",
   "execution_count": null,
   "metadata": {},
   "outputs": [],
   "source": [
    "def forecast(model, df, params, limit=-1, state=None, show_anomaly=False):\n",
    "    groups = df[params['group']].unique()\n",
    "    data = df.iloc[:limit].astype(str)\n",
    "    advanced_args = {'anomaly_error_rate': 0.01, 'anomaly_cooldown': 1, 'anomaly_detection': show_anomaly}\n",
    "\n",
    "    r = {group: model.predict(when_data=data[data[params['group']] == group], advanced_args=advanced_args)\n",
    "         for group in groups \n",
    "         if (state is None or group == state)\n",
    "         and data[data[params['group']] == group].shape[0] > 0}\n",
    "    \n",
    "    for group, rr in r.items():\n",
    "        if (state is None or group == state):\n",
    "            titles = { 'title': f'MindsDB t+1 forecast for State {group}',\n",
    "                      'xtitle': 'Date (Unix timestamp)',\n",
    "                      'ytitle': params['target'],\n",
    "                      'legend_title': 'Legend'\n",
    "                     }\n",
    "            plot_call(rr, params['target'], params['order'], titles, show_anomaly=show_anomaly, window=params['window'])"
   ]
  },
  {
   "cell_type": "code",
   "execution_count": null,
   "metadata": {
    "scrolled": true
   },
   "outputs": [],
   "source": [
    "# Specific state\n",
    "state = None#'Pondy'  # None predicts for all states\n",
    "forecast(mdb, test_data, params, state=state, show_anomaly=True)"
   ]
  },
  {
   "cell_type": "code",
   "execution_count": null,
   "metadata": {},
   "outputs": [],
   "source": []
  }
 ],
 "metadata": {
  "kernelspec": {
   "display_name": "Python 3",
   "language": "python",
   "name": "python3"
  },
  "language_info": {
   "codemirror_mode": {
    "name": "ipython",
    "version": 3
   },
   "file_extension": ".py",
   "mimetype": "text/x-python",
   "name": "python",
   "nbconvert_exporter": "python",
   "pygments_lexer": "ipython3",
   "version": "3.8.5"
  }
 },
 "nbformat": 4,
 "nbformat_minor": 4
}
